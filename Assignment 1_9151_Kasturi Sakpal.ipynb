{
  "nbformat": 4,
  "nbformat_minor": 0,
  "metadata": {
    "colab": {
      "name": "Copy of Untitled2.ipynb",
      "provenance": [],
      "collapsed_sections": []
    },
    "kernelspec": {
      "name": "python3",
      "display_name": "Python 3"
    },
    "language_info": {
      "name": "python"
    }
  },
  "cells": [
    {
      "cell_type": "code",
      "execution_count": null,
      "metadata": {
        "id": "7Zc9b6IqzesP"
      },
      "outputs": [],
      "source": [
        "Name=\"Kasturi Sakpal\"\n",
        "Roll_No=9151"
      ]
    },
    {
      "cell_type": "markdown",
      "source": [
        "LISTS"
      ],
      "metadata": {
        "id": "85ZKdxaBz6F3"
      }
    },
    {
      "cell_type": "code",
      "source": [
        "A=[\"Kasturi\",\"Sakpal\",21,\"Student\",]\n",
        "B=[\"SP College\",\"Autonomous\",\"Sadashiv Peth\",411030]\n",
        "print(A)\n",
        "print(B)"
      ],
      "metadata": {
        "colab": {
          "base_uri": "https://localhost:8080/"
        },
        "id": "rWhDlw8nz-AL",
        "outputId": "b4655bb2-e3b4-41cb-b4b7-c6e180575794"
      },
      "execution_count": null,
      "outputs": [
        {
          "output_type": "stream",
          "name": "stdout",
          "text": [
            "['Kasturi', 'Sakpal', 21, 'Student']\n",
            "['SP College', 'Autonomous', 'Sadashiv Peth', 411030]\n"
          ]
        }
      ]
    },
    {
      "cell_type": "markdown",
      "source": [
        "TUPPLES"
      ],
      "metadata": {
        "id": "xmTJyY4m0VZY"
      }
    },
    {
      "cell_type": "code",
      "source": [
        "a=(\"Kasturi\",\"Sakpal\",21,\"Student\")\n",
        "b=(\"SP College\",\"Autonomous\",\"Sadashiv Peth\",411030)\n",
        "print(a)\n",
        "print(b)"
      ],
      "metadata": {
        "colab": {
          "base_uri": "https://localhost:8080/"
        },
        "id": "roWth0Jf0aXH",
        "outputId": "0926bd7b-9587-49e2-a184-95f233519427"
      },
      "execution_count": null,
      "outputs": [
        {
          "output_type": "stream",
          "name": "stdout",
          "text": [
            "('Kasturi', 'Sakpal', 21, 'Student')\n",
            "('SP College', 'Autonomous', 'Sadashiv Peth', 411030)\n"
          ]
        }
      ]
    },
    {
      "cell_type": "code",
      "source": [
        "print(A[0:2])\n",
        "print(B[2:3])\n",
        "print(a[2])\n",
        "print(b[3])"
      ],
      "metadata": {
        "colab": {
          "base_uri": "https://localhost:8080/"
        },
        "id": "1lBHiHhR0kP1",
        "outputId": "54b1b062-f1d3-46ac-e467-16f285b10c66"
      },
      "execution_count": null,
      "outputs": [
        {
          "output_type": "stream",
          "name": "stdout",
          "text": [
            "['Kasturi', 'Sakpal']\n",
            "['Sadashiv Peth']\n",
            "21\n",
            "411030\n"
          ]
        }
      ]
    },
    {
      "cell_type": "markdown",
      "source": [
        "CLASS"
      ],
      "metadata": {
        "id": "Fgd2wv471NWa"
      }
    },
    {
      "cell_type": "code",
      "source": [
        "print(type(A))\n",
        "print(type(B))\n",
        "print(type(a))\n",
        "print(type(b))"
      ],
      "metadata": {
        "colab": {
          "base_uri": "https://localhost:8080/"
        },
        "id": "DwzJOlHS1O1A",
        "outputId": "4a6fcbe0-77ec-475f-96d2-1c13b82c9a8d"
      },
      "execution_count": null,
      "outputs": [
        {
          "output_type": "stream",
          "name": "stdout",
          "text": [
            "<class 'list'>\n",
            "<class 'list'>\n",
            "<class 'tuple'>\n",
            "<class 'tuple'>\n"
          ]
        }
      ]
    },
    {
      "cell_type": "markdown",
      "source": [
        "COPY"
      ],
      "metadata": {
        "id": "OxVRPwO91XCx"
      }
    },
    {
      "cell_type": "code",
      "source": [
        "print(A)\n",
        "A1=A.copy()\n",
        "print(A1)\n",
        "#### Tupples cannot be copied####"
      ],
      "metadata": {
        "colab": {
          "base_uri": "https://localhost:8080/"
        },
        "id": "1m8FqqFp1_-9",
        "outputId": "82262c17-a84d-46c3-b532-a3490242c05d"
      },
      "execution_count": null,
      "outputs": [
        {
          "output_type": "stream",
          "name": "stdout",
          "text": [
            "['Kasturi', 'Sakpal', 21, 'Student']\n",
            "['Kasturi', 'Sakpal', 21, 'Student']\n"
          ]
        }
      ]
    },
    {
      "cell_type": "markdown",
      "source": [
        "APPEND"
      ],
      "metadata": {
        "id": "yo_ZWe3X2QZH"
      }
    },
    {
      "cell_type": "code",
      "source": [
        "print(B)\n",
        "B.append(\"Autonomous\")\n",
        "print(B)\n",
        "\n",
        "### TUpples cannot be modified ###"
      ],
      "metadata": {
        "colab": {
          "base_uri": "https://localhost:8080/"
        },
        "id": "4uwq_Q1t2TWX",
        "outputId": "cb4e4048-c16f-45a6-92b5-8ce0a1869c6e"
      },
      "execution_count": null,
      "outputs": [
        {
          "output_type": "stream",
          "name": "stdout",
          "text": [
            "['SP College', 'Autonomous', 'Sadashiv Peth', 411030]\n",
            "['SP College', 'Autonomous', 'Sadashiv Peth', 411030, 'Autonomous']\n"
          ]
        }
      ]
    },
    {
      "cell_type": "markdown",
      "source": [
        "COUNT"
      ],
      "metadata": {
        "id": "3BFcxKal2hEv"
      }
    },
    {
      "cell_type": "code",
      "source": [
        "print(A.count(\"Kasturi\"))\n",
        "A.append(\"Kasturi\")\n",
        "print(A.count(\"Kasturi\"))"
      ],
      "metadata": {
        "colab": {
          "base_uri": "https://localhost:8080/"
        },
        "id": "RJ5Ybg5J2jFJ",
        "outputId": "6cc89791-4f86-4a1c-c078-b839634e88e3"
      },
      "execution_count": null,
      "outputs": [
        {
          "output_type": "stream",
          "name": "stdout",
          "text": [
            "1\n",
            "2\n"
          ]
        }
      ]
    },
    {
      "cell_type": "markdown",
      "source": [
        "DELETE LIST"
      ],
      "metadata": {
        "id": "SAn4LIWn2x1h"
      }
    },
    {
      "cell_type": "code",
      "source": [
        "try:\n",
        " print(A1)\n",
        " del A1\n",
        " print(A1)\n",
        "except:\n",
        "    pass\n",
        "\n",
        "### List A1 is deleted therefore it is showing error\n",
        "### Used Try and Expect to maintain the continuity of the program"
      ],
      "metadata": {
        "colab": {
          "base_uri": "https://localhost:8080/"
        },
        "id": "05l2nlOq22UI",
        "outputId": "81a7d552-3698-4089-b752-bc67ef9cf987"
      },
      "execution_count": null,
      "outputs": [
        {
          "output_type": "stream",
          "name": "stdout",
          "text": [
            "['Kasturi', 'Sakpal', 21, 'Student']\n"
          ]
        }
      ]
    },
    {
      "cell_type": "markdown",
      "source": [
        "EXTEND"
      ],
      "metadata": {
        "id": "p_fwM8D53Gvo"
      }
    },
    {
      "cell_type": "code",
      "source": [
        "print(A)\n",
        "print(B)\n",
        "A.extend(B)\n",
        "print(A)"
      ],
      "metadata": {
        "colab": {
          "base_uri": "https://localhost:8080/"
        },
        "id": "EPDWqd5j25-F",
        "outputId": "05c577e2-c503-4603-bc3c-75fe5c3fe8bd"
      },
      "execution_count": null,
      "outputs": [
        {
          "output_type": "stream",
          "name": "stdout",
          "text": [
            "['Kasturi', 'Sakpal', 21, 'Student', 'Kasturi']\n",
            "['SP College', 'Autonomous', 'Sadashiv Peth', 411030, 'Autonomous']\n",
            "['Kasturi', 'Sakpal', 21, 'Student', 'Kasturi', 'SP College', 'Autonomous', 'Sadashiv Peth', 411030, 'Autonomous']\n"
          ]
        }
      ]
    },
    {
      "cell_type": "markdown",
      "source": [
        "INDEX"
      ],
      "metadata": {
        "id": "fL-jqICd3PIh"
      }
    },
    {
      "cell_type": "code",
      "source": [
        "print(B.index(\"Sadashiv Peth\"))\n",
        "print(A.index(\"Autonomous\"))\n",
        "\n",
        "### If the elements are repeated in the list then index() will provide the index no. of first element"
      ],
      "metadata": {
        "colab": {
          "base_uri": "https://localhost:8080/"
        },
        "id": "Q6u7moP53Efl",
        "outputId": "b59ad24a-727d-4d07-f428-b25f94bcfdc0"
      },
      "execution_count": null,
      "outputs": [
        {
          "output_type": "stream",
          "name": "stdout",
          "text": [
            "2\n",
            "6\n"
          ]
        }
      ]
    },
    {
      "cell_type": "markdown",
      "source": [
        "SORT"
      ],
      "metadata": {
        "id": "nIU1S1Mr3joX"
      }
    },
    {
      "cell_type": "code",
      "source": [
        "Y=[\"D\",\"A\",\"C\",\"B\"]\n",
        "print(Y)\n",
        "Y1=[4,2,1,3]\n",
        "print(Y1)\n",
        "Y.sort()\n",
        "Y1.sort()\n",
        "print(Y)\n",
        "print(Y1)"
      ],
      "metadata": {
        "colab": {
          "base_uri": "https://localhost:8080/"
        },
        "id": "T0F-aYAO3Nye",
        "outputId": "d250bde1-a0d5-4ba8-8c7c-3a98dd6ed118"
      },
      "execution_count": null,
      "outputs": [
        {
          "output_type": "stream",
          "name": "stdout",
          "text": [
            "['D', 'A', 'C', 'B']\n",
            "[4, 2, 1, 3]\n",
            "['A', 'B', 'C', 'D']\n",
            "[1, 2, 3, 4]\n"
          ]
        }
      ]
    },
    {
      "cell_type": "markdown",
      "source": [
        "ACCESS"
      ],
      "metadata": {
        "id": "mOCSqSpT3trC"
      }
    },
    {
      "cell_type": "code",
      "source": [
        "print(Y[:2])\n",
        "print(Y1[0:])"
      ],
      "metadata": {
        "colab": {
          "base_uri": "https://localhost:8080/"
        },
        "id": "LWKL5e6n3hDi",
        "outputId": "7394bffc-1601-4d3d-ae3f-832299ba706b"
      },
      "execution_count": null,
      "outputs": [
        {
          "output_type": "stream",
          "name": "stdout",
          "text": [
            "['A', 'B']\n",
            "[1, 2, 3, 4]\n"
          ]
        }
      ]
    },
    {
      "cell_type": "markdown",
      "source": [
        "NESTED LIST"
      ],
      "metadata": {
        "id": "7KdPAwdd33if"
      }
    },
    {
      "cell_type": "code",
      "source": [
        "ABlist=[\"Kasturi\",\"SP COllege\",[21,411030]]\n",
        "print(ABlist)\n",
        "print(ABlist[2])"
      ],
      "metadata": {
        "colab": {
          "base_uri": "https://localhost:8080/"
        },
        "id": "jdk6Thq_3quR",
        "outputId": "f567c63d-7014-4deb-91e7-0a61847ad8b8"
      },
      "execution_count": null,
      "outputs": [
        {
          "output_type": "stream",
          "name": "stdout",
          "text": [
            "['Kasturi', 'SP COllege', [21, 411030]]\n",
            "[21, 411030]\n"
          ]
        }
      ]
    }
  ]
}