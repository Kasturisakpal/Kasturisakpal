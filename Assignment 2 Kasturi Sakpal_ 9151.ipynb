{
  "nbformat": 4,
  "nbformat_minor": 0,
  "metadata": {
    "colab": {
      "name": "Untitled3.ipynb",
      "provenance": [],
      "collapsed_sections": []
    },
    "kernelspec": {
      "name": "python3",
      "display_name": "Python 3"
    },
    "language_info": {
      "name": "python"
    }
  },
  "cells": [
    {
      "cell_type": "markdown",
      "source": [
        "NAME- KASTURI SAKPAL"
      ],
      "metadata": {
        "id": "4WlY7X7q-d2Y"
      }
    },
    {
      "cell_type": "markdown",
      "source": [
        "ROLL NO-9151"
      ],
      "metadata": {
        "id": "E9kelGYf-g19"
      }
    },
    {
      "cell_type": "markdown",
      "source": [
        "ASSIGNMENT 2"
      ],
      "metadata": {
        "id": "Ijfm4Anv-ktJ"
      }
    },
    {
      "cell_type": "markdown",
      "source": [
        "Q1.Write a Python User Define Function to reverse a string"
      ],
      "metadata": {
        "id": "0hjiB306_ZGU"
      }
    },
    {
      "cell_type": "markdown",
      "source": [
        "Q1. Hint :If I Pass the Parameter >> \"python\" My output will be >> \"nohtyp\""
      ],
      "metadata": {
        "id": "RNcvewJz_c0K"
      }
    },
    {
      "cell_type": "code",
      "source": [
        "##Solution Q1. \n",
        "def rev(Inp):\n",
        " ReverseInp=Inp[::-1] # Slicing\n",
        " print (\"The Reversed String is\",ReverseInp) # Print the reversed string\n",
        "\n",
        "Stri=input(\"Enter the String to be Reversed \") # Input From the User\n",
        "rev(Stri) #Called the function with user input as parameter"
      ],
      "metadata": {
        "colab": {
          "base_uri": "https://localhost:8080/"
        },
        "id": "5d2uErV5_fG_",
        "outputId": "0f16ac20-13b2-4e54-df1e-a76f37445e7f"
      },
      "execution_count": null,
      "outputs": [
        {
          "output_type": "stream",
          "name": "stdout",
          "text": [
            "Enter the String to be Reversed Kasturi\n",
            "The Reversed String is irutsaK\n"
          ]
        }
      ]
    },
    {
      "cell_type": "markdown",
      "source": [
        "Q2. Write a Python min_max function which will return Min, Max of 4 inputs from the user."
      ],
      "metadata": {
        "id": "ueyrkvHpBVO6"
      }
    },
    {
      "cell_type": "code",
      "source": [
        "##Solution Q2. \n",
        "def min_max(A,B,C,D):\n",
        "  print(\"The Maxmimum value from the input values is: \", max(A,B,C,D))\n",
        "  print(\"The Minimum value from the input values is: \", min(A,B,C,D))\n",
        "  \n",
        "p, q, r, s = input(\"Enter four values to find minimum and maximum value separated by space: \").split()\n",
        "# Alternative  \n",
        "# p = input(\"Enter the first value: \")\n",
        "# q = input(\"Enter the second value: \")\n",
        "# r = input(\"Enter the third value: \")\n",
        "# s = input(\"Enter the fourth value: \")\n",
        "\n",
        "min_max(p,q,r,s)"
      ],
      "metadata": {
        "colab": {
          "base_uri": "https://localhost:8080/"
        },
        "id": "ceRMRRYtZBIf",
        "outputId": "bdce6cf4-0e7d-4f65-82e3-14a173ba6291"
      },
      "execution_count": 1,
      "outputs": [
        {
          "output_type": "stream",
          "name": "stdout",
          "text": [
            "Enter four values to find minimum and maximum value separated by space: 6 22 77 13\n",
            "The Maxmimum value from the input values is:  77\n",
            "The Minimum value from the input values is:  13\n"
          ]
        }
      ]
    },
    {
      "cell_type": "markdown",
      "source": [
        "Q3. Write a Python function to sum 4 inputs from the user."
      ],
      "metadata": {
        "id": "NJnPZAnRCFjy"
      }
    },
    {
      "cell_type": "code",
      "source": [
        "##Solution Q3. \n",
        "def Sum4(A,B,C,D):\n",
        "  sum = A+B+C+D\n",
        "  print(\"The Sum of the input vlaues is: \", sum)\n",
        "\n",
        "p, q, r, s = list(map(float, input(\"Enter four values to find sum of them separated by space: \").split()))\n",
        "# Alternative  \n",
        "# p = float(input(\"Enter the first value: \"))\n",
        "# q = float(input(\"Enter the second value: \"))\n",
        "# r = float(input(\"Enter the third value: \"))\n",
        "# s = float(input(\"Enter the fourth value: \"))\n",
        "\n",
        "Sum4 (p,q,r,s)"
      ],
      "metadata": {
        "colab": {
          "base_uri": "https://localhost:8080/"
        },
        "id": "4VbX_KpXCHid",
        "outputId": "f57cc23a-0136-4cf4-d4e7-20760082c033"
      },
      "execution_count": 2,
      "outputs": [
        {
          "output_type": "stream",
          "name": "stdout",
          "text": [
            "Enter four values to find sum of them separated by space: 23 34 67 8\n",
            "The Sum of the input vlaues is:  132.0\n"
          ]
        }
      ]
    },
    {
      "cell_type": "markdown",
      "source": [
        "Q4. Find out the Command which will return you number of local variables from the user define function."
      ],
      "metadata": {
        "id": "VZSxTpQhCo-x"
      }
    },
    {
      "cell_type": "code",
      "source": [
        "##Solution Q4. \n",
        "# Suppose here our user defined function is Sum4\n",
        "# Then to find the number of local variables we have to use the following syntax\n",
        "## User_Defined_Function_Name.__code__.co_nlocals\n",
        "print(\"The Number of Local Variables in the given User Defined Function is: \" ,Sum4.__code__.co_nlocals)"
      ],
      "metadata": {
        "colab": {
          "base_uri": "https://localhost:8080/"
        },
        "id": "aRzMclCBCLPf",
        "outputId": "4272e008-4bd4-4f6b-f613-1403f90d7ae9"
      },
      "execution_count": 3,
      "outputs": [
        {
          "output_type": "stream",
          "name": "stdout",
          "text": [
            "The Number of Local Variables in the given User Defined Function is:  5\n"
          ]
        }
      ]
    },
    {
      "cell_type": "markdown",
      "source": [
        "Q5.Write Python Function to get even number from the list. List len must be equal to 8."
      ],
      "metadata": {
        "id": "nXeSK3F7C7v-"
      }
    },
    {
      "cell_type": "code",
      "source": [
        "##Solution Q5. \n",
        "list1 = list(map(float, input(\"Enter a list of 8 elements separated by space: \").split()))\n",
        "L = len(list1)\n",
        "\n",
        "if (L==8):\n",
        "    print(\"The Even Numbers are : \")\n",
        "    for num in list1:\n",
        "  \n",
        "        if (num % 2 == 0):\n",
        "            print(num, end=\" \")\n",
        "else: \n",
        "    print(\"There are less than 8 elements in the list\")\n"
      ],
      "metadata": {
        "colab": {
          "base_uri": "https://localhost:8080/"
        },
        "id": "-uWspKPRC-j2",
        "outputId": "9ce3cbc6-4f91-4827-aa3e-348049e1590c"
      },
      "execution_count": 4,
      "outputs": [
        {
          "output_type": "stream",
          "name": "stdout",
          "text": [
            "Enter a list of 8 elements separated by space: 1 2 3 4 5 6 7 8\n",
            "The Even Numbers are : \n",
            "2.0 4.0 6.0 8.0 "
          ]
        }
      ]
    },
    {
      "cell_type": "code",
      "source": [
        ""
      ],
      "metadata": {
        "id": "g-CYIMU8DECq"
      },
      "execution_count": null,
      "outputs": []
    }
  ]
}