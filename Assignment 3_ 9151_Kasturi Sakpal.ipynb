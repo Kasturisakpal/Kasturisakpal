{
  "nbformat": 4,
  "nbformat_minor": 0,
  "metadata": {
    "colab": {
      "name": "Untitled4.ipynb",
      "provenance": [],
      "collapsed_sections": []
    },
    "kernelspec": {
      "name": "python3",
      "display_name": "Python 3"
    },
    "language_info": {
      "name": "python"
    }
  },
  "cells": [
    {
      "cell_type": "markdown",
      "source": [
        "Name - Kasturi Sakpal\n",
        "\n",
        "Roll No. - 9151\n",
        "\n",
        "Question No. 41 to 48"
      ],
      "metadata": {
        "id": "bdDhqqV8Gz2L"
      }
    },
    {
      "cell_type": "code",
      "source": [
        "!pip install import_ipynb\n",
        "import import_ipynb\n",
        "import requests\n",
        "# Saves file to colab working directory"
      ],
      "metadata": {
        "colab": {
          "base_uri": "https://localhost:8080/"
        },
        "id": "Az8JbuoaG1yE",
        "outputId": "524dedca-e87e-4399-c92b-9910e0ff5921"
      },
      "execution_count": 1,
      "outputs": [
        {
          "output_type": "stream",
          "name": "stdout",
          "text": [
            "Looking in indexes: https://pypi.org/simple, https://us-python.pkg.dev/colab-wheels/public/simple/\n",
            "Collecting import_ipynb\n",
            "  Downloading import_ipynb-0.1.4-py3-none-any.whl (4.1 kB)\n",
            "Requirement already satisfied: IPython in /usr/local/lib/python3.7/dist-packages (from import_ipynb) (5.5.0)\n",
            "Requirement already satisfied: nbformat in /usr/local/lib/python3.7/dist-packages (from import_ipynb) (5.4.0)\n",
            "Requirement already satisfied: decorator in /usr/local/lib/python3.7/dist-packages (from IPython->import_ipynb) (4.4.2)\n",
            "Requirement already satisfied: prompt-toolkit<2.0.0,>=1.0.4 in /usr/local/lib/python3.7/dist-packages (from IPython->import_ipynb) (1.0.18)\n",
            "Requirement already satisfied: pickleshare in /usr/local/lib/python3.7/dist-packages (from IPython->import_ipynb) (0.7.5)\n",
            "Requirement already satisfied: simplegeneric>0.8 in /usr/local/lib/python3.7/dist-packages (from IPython->import_ipynb) (0.8.1)\n",
            "Requirement already satisfied: traitlets>=4.2 in /usr/local/lib/python3.7/dist-packages (from IPython->import_ipynb) (5.1.1)\n",
            "Requirement already satisfied: pexpect in /usr/local/lib/python3.7/dist-packages (from IPython->import_ipynb) (4.8.0)\n",
            "Requirement already satisfied: pygments in /usr/local/lib/python3.7/dist-packages (from IPython->import_ipynb) (2.6.1)\n",
            "Requirement already satisfied: setuptools>=18.5 in /usr/local/lib/python3.7/dist-packages (from IPython->import_ipynb) (57.4.0)\n",
            "Requirement already satisfied: wcwidth in /usr/local/lib/python3.7/dist-packages (from prompt-toolkit<2.0.0,>=1.0.4->IPython->import_ipynb) (0.2.5)\n",
            "Requirement already satisfied: six>=1.9.0 in /usr/local/lib/python3.7/dist-packages (from prompt-toolkit<2.0.0,>=1.0.4->IPython->import_ipynb) (1.15.0)\n",
            "Requirement already satisfied: fastjsonschema in /usr/local/lib/python3.7/dist-packages (from nbformat->import_ipynb) (2.15.3)\n",
            "Requirement already satisfied: jsonschema>=2.6 in /usr/local/lib/python3.7/dist-packages (from nbformat->import_ipynb) (4.3.3)\n",
            "Requirement already satisfied: jupyter-core in /usr/local/lib/python3.7/dist-packages (from nbformat->import_ipynb) (4.10.0)\n",
            "Requirement already satisfied: pyrsistent!=0.17.0,!=0.17.1,!=0.17.2,>=0.14.0 in /usr/local/lib/python3.7/dist-packages (from jsonschema>=2.6->nbformat->import_ipynb) (0.18.1)\n",
            "Requirement already satisfied: attrs>=17.4.0 in /usr/local/lib/python3.7/dist-packages (from jsonschema>=2.6->nbformat->import_ipynb) (21.4.0)\n",
            "Requirement already satisfied: importlib-resources>=1.4.0 in /usr/local/lib/python3.7/dist-packages (from jsonschema>=2.6->nbformat->import_ipynb) (5.7.1)\n",
            "Requirement already satisfied: typing-extensions in /usr/local/lib/python3.7/dist-packages (from jsonschema>=2.6->nbformat->import_ipynb) (4.2.0)\n",
            "Requirement already satisfied: importlib-metadata in /usr/local/lib/python3.7/dist-packages (from jsonschema>=2.6->nbformat->import_ipynb) (4.11.3)\n",
            "Requirement already satisfied: zipp>=3.1.0 in /usr/local/lib/python3.7/dist-packages (from importlib-resources>=1.4.0->jsonschema>=2.6->nbformat->import_ipynb) (3.8.0)\n",
            "Requirement already satisfied: ptyprocess>=0.5 in /usr/local/lib/python3.7/dist-packages (from pexpect->IPython->import_ipynb) (0.7.0)\n",
            "Installing collected packages: import-ipynb\n",
            "Successfully installed import-ipynb-0.1.4\n"
          ]
        }
      ]
    },
    {
      "cell_type": "markdown",
      "source": [
        "Q41 ] Write a user defined function to find and print the A-B and B-A of two sets A and B. Run the function for two sets A={a, b, c, d} and B={b, c,e}"
      ],
      "metadata": {
        "id": "9O6ceta3HWQz"
      }
    },
    {
      "cell_type": "code",
      "source": [
        "def A_B(A,B):\n",
        "  A_minus_B = A - B\n",
        "  B_minus_A = B - A\n",
        "  print (\"Set A minus Set B (A-B) is :\",A_minus_B)\n",
        "  print (\"Set B minus Set A (B-A) is :\",B_minus_A)\n",
        "A={\"a\", \"b\", \"c\", \"d\"} #Given\n",
        "B={\"b\", \"c\", \"e\"}  # Given\n",
        "A_B(A,B)"
      ],
      "metadata": {
        "colab": {
          "base_uri": "https://localhost:8080/"
        },
        "id": "KHh182vqHcRG",
        "outputId": "52c347f8-2e9c-486c-f00b-f971a1d2779f"
      },
      "execution_count": 2,
      "outputs": [
        {
          "output_type": "stream",
          "name": "stdout",
          "text": [
            "Set A minus Set B (A-B) is : {'a', 'd'}\n",
            "Set B minus Set A (B-A) is : {'e'}\n"
          ]
        }
      ]
    },
    {
      "cell_type": "markdown",
      "source": [
        "Q42] Create a module to find area and circumference of a circle. Run the module for radius (r)=50 cm and print the output."
      ],
      "metadata": {
        "id": "l8tYLSbDHpLF"
      }
    },
    {
      "cell_type": "code",
      "source": [
        "# If you are using GitHub, make sure you get the \"Raw\" version of the code\n",
        "url = 'https://raw.githubusercontent.com/Yogesh0903/Basics-of-Python_SPC/main/Assignments/Assignment%203/Area_Circum.ipynb'\n",
        "r = requests.get(url)\n",
        "\n",
        "# make sure your filename is the same as how you want to import \n",
        "with open('Area_Circum.ipynb', 'w') as f:\n",
        "    f.write(r.text)\n",
        "import Area_Circum"
      ],
      "metadata": {
        "colab": {
          "base_uri": "https://localhost:8080/"
        },
        "id": "WNnOF_yLHkuv",
        "outputId": "942aa728-2040-4172-e360-2e10e2d2ba91"
      },
      "execution_count": 3,
      "outputs": [
        {
          "output_type": "stream",
          "name": "stdout",
          "text": [
            "importing Jupyter notebook from Area_Circum.ipynb\n"
          ]
        }
      ]
    },
    {
      "cell_type": "code",
      "source": [
        "Radius=50 ## Given\n",
        "Area_Circum.Area_Circum(Radius)"
      ],
      "metadata": {
        "colab": {
          "base_uri": "https://localhost:8080/"
        },
        "id": "eIJfyLYdHuUZ",
        "outputId": "9160e59a-e215-4b6d-d2ed-a87cc05708bf"
      },
      "execution_count": 4,
      "outputs": [
        {
          "output_type": "stream",
          "name": "stdout",
          "text": [
            " The area of the given circle is:  7853.981633974483\n",
            " The circumference of the given circle is:  314.1592653589793\n"
          ]
        }
      ]
    },
    {
      "cell_type": "markdown",
      "source": [
        "Q43] Create a module to find minimum and maximum numbers between n numbers. Find the minimum and maximum temperature (in Celsius) from the following data.\n",
        "15, 20, 48, 10, 40, 42, 35, 30, 37, 25"
      ],
      "metadata": {
        "id": "BI5kcUrsH4kV"
      }
    },
    {
      "cell_type": "code",
      "source": [
        "url = 'https://raw.githubusercontent.com/Yogesh0903/Basics-of-Python_SPC/main/Assignments/Assignment%203/Max_Min.ipynb'\n",
        "r = requests.get(url)\n",
        "with open('Max_Min.ipynb', 'w') as f:\n",
        "    f.write(r.text)\n",
        "import Max_Min"
      ],
      "metadata": {
        "colab": {
          "base_uri": "https://localhost:8080/"
        },
        "id": "NVcSEjiQH50i",
        "outputId": "771a3437-5377-4581-e80b-77baa15af09a"
      },
      "execution_count": 5,
      "outputs": [
        {
          "output_type": "stream",
          "name": "stdout",
          "text": [
            "importing Jupyter notebook from Max_Min.ipynb\n"
          ]
        }
      ]
    },
    {
      "cell_type": "code",
      "source": [
        "Data = [15, 20, 48, 10, 40, 42, 35, 30, 37, 25]\n",
        "Max_Min.Max_Min(Data)"
      ],
      "metadata": {
        "colab": {
          "base_uri": "https://localhost:8080/"
        },
        "id": "sgysapDGIEEn",
        "outputId": "f3f391e8-4790-40e0-f40b-81c708d36e0e"
      },
      "execution_count": 7,
      "outputs": [
        {
          "output_type": "stream",
          "name": "stdout",
          "text": [
            "The Maxmimum value from the input values is:  48\n",
            "The Minimum value from the input values is:  10\n"
          ]
        }
      ]
    },
    {
      "cell_type": "markdown",
      "source": [
        "Q44] Write a module to calculate area a triangle when base and height of a triangle are given.\n",
        "Find the area of triangle whose base=10 cm and height=5cm."
      ],
      "metadata": {
        "id": "lYb731npIV0B"
      }
    },
    {
      "cell_type": "code",
      "source": [
        "url = 'https://raw.githubusercontent.com/Yogesh0903/Basics-of-Python_SPC/main/Assignments/Assignment%203/Area_Tri.ipynb'\n",
        "r = requests.get(url)\n",
        "with open('Area_Tri.ipynb', 'w') as f:\n",
        "    f.write(r.text)\n",
        "import Area_Tri"
      ],
      "metadata": {
        "colab": {
          "base_uri": "https://localhost:8080/"
        },
        "id": "EyIbl90gIQbE",
        "outputId": "3eb708c5-623a-40fd-81f6-7a8e6adf310f"
      },
      "execution_count": 8,
      "outputs": [
        {
          "output_type": "stream",
          "name": "stdout",
          "text": [
            "importing Jupyter notebook from Area_Tri.ipynb\n"
          ]
        }
      ]
    },
    {
      "cell_type": "code",
      "source": [
        "base = 10\n",
        "height = 5\n",
        "Area_Tri.Area_Tri(base,height)"
      ],
      "metadata": {
        "colab": {
          "base_uri": "https://localhost:8080/"
        },
        "id": "E285uLvmIba6",
        "outputId": "fd09a771-74f2-4946-9a89-22a8bdaf2943"
      },
      "execution_count": 9,
      "outputs": [
        {
          "output_type": "stream",
          "name": "stdout",
          "text": [
            "Area of the Triangle is =  25.0\n"
          ]
        }
      ]
    },
    {
      "cell_type": "markdown",
      "source": [
        "Q45] Write a module to compute minimum and maximum numbers between three numbers. Find\n",
        "the minimum and maximum numbers between three numbers: 20, 7, 10"
      ],
      "metadata": {
        "id": "F3xVzkgiIjn3"
      }
    },
    {
      "cell_type": "code",
      "source": [
        "url = 'https://raw.githubusercontent.com/Yogesh0903/Basics-of-Python_SPC/main/Assignments/Assignment%203/MinMax.ipynb'\n",
        "r = requests.get(url)\n",
        "with open('MinMax.ipynb', 'w') as f:\n",
        "    f.write(r.text)\n",
        "import MinMax"
      ],
      "metadata": {
        "colab": {
          "base_uri": "https://localhost:8080/"
        },
        "id": "j28aGtV-IefF",
        "outputId": "3aa0f7a1-c3f0-44ca-ad99-428acaee2d74"
      },
      "execution_count": 10,
      "outputs": [
        {
          "output_type": "stream",
          "name": "stdout",
          "text": [
            "importing Jupyter notebook from MinMax.ipynb\n"
          ]
        }
      ]
    },
    {
      "cell_type": "code",
      "source": [
        "A,B,C = 20, 7, 10 ## Given\n",
        "MinMax.MinMax(A,B,C)"
      ],
      "metadata": {
        "colab": {
          "base_uri": "https://localhost:8080/"
        },
        "id": "gK13--ijInpb",
        "outputId": "50873c3f-3746-4c69-b3fe-6f8c0a2bc5c2"
      },
      "execution_count": 11,
      "outputs": [
        {
          "output_type": "stream",
          "name": "stdout",
          "text": [
            "The Minimum value from three input values is:  7\n",
            "The Maxmimum value from three input values is:  20\n"
          ]
        }
      ]
    },
    {
      "cell_type": "markdown",
      "source": [
        "Q46] Write a module to find the mean, mode, standard deviation and coefficient of variation of n\n",
        "observations. Hence find and print the four values for the following set of observations.\n",
        "3.1, 2.5, 7.9, 3.4, 5.8, 1.9, 2.4, 3.2, 9.1, 2.1"
      ],
      "metadata": {
        "id": "0SnPmT7BItu1"
      }
    },
    {
      "cell_type": "code",
      "source": [
        "url = 'https://raw.githubusercontent.com/Yogesh0903/Basics-of-Python_SPC/main/Assignments/Assignment%203/FourStat.ipynb'\n",
        "r = requests.get(url)\n",
        "with open('FourStat.ipynb', 'w') as f:\n",
        "    f.write(r.text)\n",
        "import FourStat"
      ],
      "metadata": {
        "colab": {
          "base_uri": "https://localhost:8080/"
        },
        "id": "Q9GFHLJjIqIH",
        "outputId": "7b515701-dcb3-4159-8c7f-8a9b592f2378"
      },
      "execution_count": 12,
      "outputs": [
        {
          "output_type": "stream",
          "name": "stdout",
          "text": [
            "importing Jupyter notebook from FourStat.ipynb\n"
          ]
        }
      ]
    },
    {
      "cell_type": "code",
      "source": [
        "Data = [3.1, 2.5, 7.9, 3.4, 5.8, 1.9, 2.4, 3.2, 9.1, 2.1] #Given\n",
        "FourStat.FourStat(Data)"
      ],
      "metadata": {
        "colab": {
          "base_uri": "https://localhost:8080/"
        },
        "id": "9X6tA8HZIzTp",
        "outputId": "6743d650-1f29-4695-daeb-8d805924a66c"
      },
      "execution_count": 13,
      "outputs": [
        {
          "output_type": "stream",
          "name": "stdout",
          "text": [
            "Mean of the Given Data is =  4.14\n",
            "Mode of the Given Data is =  [3.1, 2.5, 7.9, 3.4, 5.8, 1.9, 2.4, 3.2, 9.1, 2.1]\n",
            "Standard Deviation of the Given Data is =  2.558298045359236\n",
            "Coefficient of Variation of the Given Data is =  0.6179463877679314\n"
          ]
        }
      ]
    },
    {
      "cell_type": "markdown",
      "source": [
        "Q47] Write a module to calculate addition, multiplication and subtraction of two matrices. Find\n",
        "A+B and A-B for matrices A and B:\n",
        "A = [1 2 3\n",
        "     1 6 7\n",
        "     5 6 7] \n",
        "B = [1 4 9\n",
        "     4 9 6\n",
        "     8 9 4]"
      ],
      "metadata": {
        "id": "lmpg797_JBn2"
      }
    },
    {
      "cell_type": "code",
      "source": [
        "url = 'https://raw.githubusercontent.com/Yogesh0903/Basics-of-Python_SPC/main/Assignments/Assignment%203/MatrixAB.ipynb'\n",
        "r = requests.get(url)\n",
        "with open('MatrixAB.ipynb', 'w') as f:\n",
        "    f.write(r.text)\n",
        "import MatrixAB"
      ],
      "metadata": {
        "colab": {
          "base_uri": "https://localhost:8080/"
        },
        "id": "QEmS6mkmI5Kc",
        "outputId": "13cf6679-c992-495b-8458-c7545288aa0f"
      },
      "execution_count": 14,
      "outputs": [
        {
          "output_type": "stream",
          "name": "stdout",
          "text": [
            "importing Jupyter notebook from MatrixAB.ipynb\n"
          ]
        }
      ]
    },
    {
      "cell_type": "code",
      "source": [
        "A = [[1,2,3],\n",
        "    [1,6,7],\n",
        "    [5,6,7]]\n",
        "\n",
        "B = [[1,4,9],\n",
        "    [4,9,6],\n",
        "    [8,9,4]]\n",
        "MatrixAB.MatrixAB(A,B)"
      ],
      "metadata": {
        "colab": {
          "base_uri": "https://localhost:8080/"
        },
        "id": "iMYwzI_KJEzd",
        "outputId": "e61712d1-2674-4955-d4eb-87f01205e3a4"
      },
      "execution_count": 15,
      "outputs": [
        {
          "output_type": "stream",
          "name": "stdout",
          "text": [
            "The Addition of Two Matrix is = \n",
            "[2, 6, 12]\n",
            "[5, 15, 13]\n",
            "[13, 15, 11]\n",
            "The Subtraction of Two Matrix is = \n",
            "[0, -2, -6]\n",
            "[-3, -3, 1]\n",
            "[-3, -3, 3]\n",
            "The Multiplication of Two Matrix is = \n",
            "[33, 49, 33]\n",
            "[81, 121, 73]\n",
            "[85, 137, 109]\n"
          ]
        }
      ]
    },
    {
      "cell_type": "markdown",
      "source": [
        "Q48] Write a module to find mean, mode, range of n observations. Find these two values for the\n",
        "given data: 7, 5, 5, 9, 1, 9, 4, 8, 6, 5."
      ],
      "metadata": {
        "id": "wxEQMWw8JOj2"
      }
    },
    {
      "cell_type": "code",
      "source": [
        "url = 'https://raw.githubusercontent.com/Yogesh0903/Basics-of-Python_SPC/main/Assignments/Assignment%203/MMR.ipynb'\n",
        "r = requests.get(url)\n",
        "with open('MMR.ipynb', 'w') as f:\n",
        "    f.write(r.text)\n",
        "import MMR"
      ],
      "metadata": {
        "colab": {
          "base_uri": "https://localhost:8080/"
        },
        "id": "hc5r8G7VJLEi",
        "outputId": "590cfdcd-f331-490d-fc7c-d84b7491bcbf"
      },
      "execution_count": 16,
      "outputs": [
        {
          "output_type": "stream",
          "name": "stdout",
          "text": [
            "importing Jupyter notebook from MMR.ipynb\n"
          ]
        }
      ]
    },
    {
      "cell_type": "code",
      "source": [
        "Data = 7, 5, 5, 9, 1, 9, 4, 8, 6, 5\n",
        "MMR.MMR(Data)"
      ],
      "metadata": {
        "colab": {
          "base_uri": "https://localhost:8080/"
        },
        "id": "-aLiswd4JVIV",
        "outputId": "38d92ab5-9983-4b7d-c3f2-c5abeb07ea50"
      },
      "execution_count": 17,
      "outputs": [
        {
          "output_type": "stream",
          "name": "stdout",
          "text": [
            "Mean of the Given Data is =  5.9\n",
            "Mode of the Given Data is =  [5]\n",
            "Range of the Given Data is =  8\n"
          ]
        }
      ]
    },
    {
      "cell_type": "code",
      "source": [
        ""
      ],
      "metadata": {
        "id": "-Q7IYXLIJXQN"
      },
      "execution_count": null,
      "outputs": []
    }
  ]
}